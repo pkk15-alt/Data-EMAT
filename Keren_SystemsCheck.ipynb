{
 "cells": [
  {
   "cell_type": "markdown",
   "id": "5d3e6b57-775d-49c5-be3e-5c694feeece7",
   "metadata": {},
   "source": [
    "#  Systems Check\n",
    "##  Paul Keren\n",
    "###  8/22/2024"
   ]
  },
  {
   "cell_type": "markdown",
   "id": "71b9194d-05de-4cfc-ad6a-975167f8e843",
   "metadata": {},
   "source": [
    "In this class I would like to refine my coding skills, I have taken coding in the past but most of the knowledge I have learned has gone away and it was in a different coding language. "
   ]
  },
  {
   "cell_type": "markdown",
   "id": "649f749f-b43f-4fa3-a24f-42a7f02f09eb",
   "metadata": {},
   "source": [
    "**BIG TEXT**"
   ]
  },
  {
   "cell_type": "markdown",
   "id": "fc0b9d7f-ad71-4382-a4c4-83d14d1e8c5f",
   "metadata": {},
   "source": [
    "*We are now fancy*"
   ]
  },
  {
   "cell_type": "markdown",
   "id": "83e0a6d7-90d2-4dd5-a16a-78c1cb1dc05c",
   "metadata": {},
   "source": [
    "1. First option\n",
    "2. Second option\n",
    "3. Third option"
   ]
  },
  {
   "cell_type": "markdown",
   "id": "b1b1f783-a7f2-43e8-881a-0374537b1c4f",
   "metadata": {},
   "source": [
    "![bears](https://upload.wikimedia.org/wikipedia/commons/9/9e/Ours_brun_parcanimalierpyrenees_1.jpg)"
   ]
  }
 ],
 "metadata": {
  "kernelspec": {
   "display_name": "",
   "name": ""
  },
  "language_info": {
   "name": ""
  }
 },
 "nbformat": 4,
 "nbformat_minor": 5
}
