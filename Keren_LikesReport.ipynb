{
 "cells": [
  {
   "cell_type": "markdown",
   "id": "9c662c4a-2ad0-47fe-9f1e-062a3ac5245e",
   "metadata": {},
   "source": [
    "# Likes Report\n",
    "## Paul Keren\n",
    "### 9/13/2024\n",
    "The source of my data is my own Instagram account from the past year.\n",
    "This data was created to review my own actions and to study to see what I have been looking at on Instagram, maybe to see if theres anything I have forgotten about or for some nostalgia. \n",
    "The data can be reliable because it is straight from my account and it is consistent at times.\n",
    "The data can also be unreliable because there are some outliers that do not align with the rest of the data.\n"
   ]
  },
  {
   "cell_type": "code",
   "execution_count": 5,
   "id": "51f0d049-16e5-4019-adec-bd43832a4998",
   "metadata": {},
   "outputs": [],
   "source": [
    "import pandas as pd\n",
    "import json"
   ]
  },
  {
   "cell_type": "code",
   "execution_count": 8,
   "id": "f7f13d3b-3f71-4f8e-abce-90b493bf1672",
   "metadata": {},
   "outputs": [],
   "source": [
    "path = \"/Users/paulkeren/Downloads/instagram-pkk15-2024-09-13-xqnexw2t/your_instagram_activity/likes/liked_posts.json\"\n",
    "with open(path) as j:\n",
    "    dict = json.load(j)"
   ]
  },
  {
   "cell_type": "markdown",
   "id": "2876cb66-e435-41cc-ba2b-bb0cfddc2f38",
   "metadata": {},
   "source": [
    "File is my liked posts on instagram."
   ]
  },
  {
   "cell_type": "code",
   "execution_count": 9,
   "id": "f6cee565-d425-4755-8afd-1016c3b1afbd",
   "metadata": {},
   "outputs": [],
   "source": [
    "df = pd.DataFrame(dict)"
   ]
  },
  {
   "cell_type": "code",
   "execution_count": 10,
   "id": "1a0cccbd-6438-4407-bfa2-af0fb6a2cadc",
   "metadata": {},
   "outputs": [
    {
     "data": {
      "text/html": [
       "<div>\n",
       "<style scoped>\n",
       "    .dataframe tbody tr th:only-of-type {\n",
       "        vertical-align: middle;\n",
       "    }\n",
       "\n",
       "    .dataframe tbody tr th {\n",
       "        vertical-align: top;\n",
       "    }\n",
       "\n",
       "    .dataframe thead th {\n",
       "        text-align: right;\n",
       "    }\n",
       "</style>\n",
       "<table border=\"1\" class=\"dataframe\">\n",
       "  <thead>\n",
       "    <tr style=\"text-align: right;\">\n",
       "      <th></th>\n",
       "      <th>likes_media_likes</th>\n",
       "    </tr>\n",
       "  </thead>\n",
       "  <tbody>\n",
       "    <tr>\n",
       "      <th>0</th>\n",
       "      <td>{'title': 'thescore', 'string_list_data': [{'h...</td>\n",
       "    </tr>\n",
       "    <tr>\n",
       "      <th>1</th>\n",
       "      <td>{'title': 'hurdles', 'string_list_data': [{'hr...</td>\n",
       "    </tr>\n",
       "    <tr>\n",
       "      <th>2</th>\n",
       "      <td>{'title': 'groovy', 'string_list_data': [{'hre...</td>\n",
       "    </tr>\n",
       "    <tr>\n",
       "      <th>3</th>\n",
       "      <td>{'title': 'cleguardians', 'string_list_data': ...</td>\n",
       "    </tr>\n",
       "    <tr>\n",
       "      <th>4</th>\n",
       "      <td>{'title': 'flash_garrett', 'string_list_data':...</td>\n",
       "    </tr>\n",
       "  </tbody>\n",
       "</table>\n",
       "</div>"
      ],
      "text/plain": [
       "                                   likes_media_likes\n",
       "0  {'title': 'thescore', 'string_list_data': [{'h...\n",
       "1  {'title': 'hurdles', 'string_list_data': [{'hr...\n",
       "2  {'title': 'groovy', 'string_list_data': [{'hre...\n",
       "3  {'title': 'cleguardians', 'string_list_data': ...\n",
       "4  {'title': 'flash_garrett', 'string_list_data':..."
      ]
     },
     "execution_count": 10,
     "metadata": {},
     "output_type": "execute_result"
    }
   ],
   "source": [
    "df.head()"
   ]
  },
  {
   "cell_type": "code",
   "execution_count": 11,
   "id": "b436072e-8d76-4436-9d74-63b2669d98ac",
   "metadata": {},
   "outputs": [
    {
     "data": {
      "text/plain": [
       "dict_keys(['likes_media_likes'])"
      ]
     },
     "execution_count": 11,
     "metadata": {},
     "output_type": "execute_result"
    }
   ],
   "source": [
    "dict.keys()"
   ]
  },
  {
   "cell_type": "code",
   "execution_count": 13,
   "id": "93cfd2c1-f894-43b7-a770-4fc2335b2923",
   "metadata": {},
   "outputs": [],
   "source": [
    "df2 = pd.DataFrame(dict['likes_media_likes'])"
   ]
  },
  {
   "cell_type": "code",
   "execution_count": 14,
   "id": "f8649411-a5d9-4b89-8dd4-a4a9b06515ed",
   "metadata": {},
   "outputs": [
    {
     "data": {
      "text/html": [
       "<div>\n",
       "<style scoped>\n",
       "    .dataframe tbody tr th:only-of-type {\n",
       "        vertical-align: middle;\n",
       "    }\n",
       "\n",
       "    .dataframe tbody tr th {\n",
       "        vertical-align: top;\n",
       "    }\n",
       "\n",
       "    .dataframe thead th {\n",
       "        text-align: right;\n",
       "    }\n",
       "</style>\n",
       "<table border=\"1\" class=\"dataframe\">\n",
       "  <thead>\n",
       "    <tr style=\"text-align: right;\">\n",
       "      <th></th>\n",
       "      <th>title</th>\n",
       "      <th>string_list_data</th>\n",
       "    </tr>\n",
       "  </thead>\n",
       "  <tbody>\n",
       "    <tr>\n",
       "      <th>0</th>\n",
       "      <td>thescore</td>\n",
       "      <td>[{'href': 'https://www.instagram.com/p/C_weZdU...</td>\n",
       "    </tr>\n",
       "    <tr>\n",
       "      <th>1</th>\n",
       "      <td>hurdles</td>\n",
       "      <td>[{'href': 'https://www.instagram.com/p/C_wRCS-...</td>\n",
       "    </tr>\n",
       "    <tr>\n",
       "      <th>2</th>\n",
       "      <td>groovy</td>\n",
       "      <td>[{'href': 'https://www.instagram.com/p/C_urr1v...</td>\n",
       "    </tr>\n",
       "    <tr>\n",
       "      <th>3</th>\n",
       "      <td>cleguardians</td>\n",
       "      <td>[{'href': 'https://www.instagram.com/p/C_vVHTl...</td>\n",
       "    </tr>\n",
       "    <tr>\n",
       "      <th>4</th>\n",
       "      <td>flash_garrett</td>\n",
       "      <td>[{'href': 'https://www.instagram.com/p/C_tr3_i...</td>\n",
       "    </tr>\n",
       "  </tbody>\n",
       "</table>\n",
       "</div>"
      ],
      "text/plain": [
       "           title                                   string_list_data\n",
       "0       thescore  [{'href': 'https://www.instagram.com/p/C_weZdU...\n",
       "1        hurdles  [{'href': 'https://www.instagram.com/p/C_wRCS-...\n",
       "2         groovy  [{'href': 'https://www.instagram.com/p/C_urr1v...\n",
       "3   cleguardians  [{'href': 'https://www.instagram.com/p/C_vVHTl...\n",
       "4  flash_garrett  [{'href': 'https://www.instagram.com/p/C_tr3_i..."
      ]
     },
     "execution_count": 14,
     "metadata": {},
     "output_type": "execute_result"
    }
   ],
   "source": [
    "df2.head()"
   ]
  },
  {
   "cell_type": "code",
   "execution_count": 15,
   "id": "59789b6d-6d96-4afc-846d-0f37cef5e630",
   "metadata": {},
   "outputs": [
    {
     "data": {
      "text/plain": [
       "list"
      ]
     },
     "execution_count": 15,
     "metadata": {},
     "output_type": "execute_result"
    }
   ],
   "source": [
    "type(df2['string_list_data'].iloc[0])"
   ]
  },
  {
   "cell_type": "code",
   "execution_count": 16,
   "id": "0ae74466-5bdd-4e36-8429-1408a5eb023a",
   "metadata": {},
   "outputs": [
    {
     "data": {
      "text/plain": [
       "list"
      ]
     },
     "execution_count": 16,
     "metadata": {},
     "output_type": "execute_result"
    }
   ],
   "source": [
    "list"
   ]
  },
  {
   "cell_type": "code",
   "execution_count": 24,
   "id": "ea503c69-137a-4484-9f7d-811395688768",
   "metadata": {},
   "outputs": [
    {
     "data": {
      "text/plain": [
       "type[1726018918]"
      ]
     },
     "execution_count": 24,
     "metadata": {},
     "output_type": "execute_result"
    }
   ],
   "source": [
    "type[df2['string_list_data'].iloc[0][0]['timestamp']]"
   ]
  },
  {
   "cell_type": "code",
   "execution_count": null,
   "id": "9863445b-550d-4d80-a44c-3d6fa0c49c81",
   "metadata": {},
   "outputs": [],
   "source": []
  },
  {
   "cell_type": "code",
   "execution_count": 18,
   "id": "203b4e83-56fb-4954-a1fb-70f0e9968423",
   "metadata": {},
   "outputs": [],
   "source": [
    "df2['timestamp'] = [x[0]['timestamp'] for x in df2 ['string_list_data']]"
   ]
  },
  {
   "cell_type": "code",
   "execution_count": 19,
   "id": "d7713ea2-26ce-4d2f-9cf1-6a967f53384c",
   "metadata": {},
   "outputs": [
    {
     "data": {
      "text/html": [
       "<div>\n",
       "<style scoped>\n",
       "    .dataframe tbody tr th:only-of-type {\n",
       "        vertical-align: middle;\n",
       "    }\n",
       "\n",
       "    .dataframe tbody tr th {\n",
       "        vertical-align: top;\n",
       "    }\n",
       "\n",
       "    .dataframe thead th {\n",
       "        text-align: right;\n",
       "    }\n",
       "</style>\n",
       "<table border=\"1\" class=\"dataframe\">\n",
       "  <thead>\n",
       "    <tr style=\"text-align: right;\">\n",
       "      <th></th>\n",
       "      <th>title</th>\n",
       "      <th>string_list_data</th>\n",
       "      <th>timestamp</th>\n",
       "    </tr>\n",
       "  </thead>\n",
       "  <tbody>\n",
       "    <tr>\n",
       "      <th>0</th>\n",
       "      <td>thescore</td>\n",
       "      <td>[{'href': 'https://www.instagram.com/p/C_weZdU...</td>\n",
       "      <td>1726018918</td>\n",
       "    </tr>\n",
       "    <tr>\n",
       "      <th>1</th>\n",
       "      <td>hurdles</td>\n",
       "      <td>[{'href': 'https://www.instagram.com/p/C_wRCS-...</td>\n",
       "      <td>1726012782</td>\n",
       "    </tr>\n",
       "    <tr>\n",
       "      <th>2</th>\n",
       "      <td>groovy</td>\n",
       "      <td>[{'href': 'https://www.instagram.com/p/C_urr1v...</td>\n",
       "      <td>1725997645</td>\n",
       "    </tr>\n",
       "    <tr>\n",
       "      <th>3</th>\n",
       "      <td>cleguardians</td>\n",
       "      <td>[{'href': 'https://www.instagram.com/p/C_vVHTl...</td>\n",
       "      <td>1725978418</td>\n",
       "    </tr>\n",
       "    <tr>\n",
       "      <th>4</th>\n",
       "      <td>flash_garrett</td>\n",
       "      <td>[{'href': 'https://www.instagram.com/p/C_tr3_i...</td>\n",
       "      <td>1725924227</td>\n",
       "    </tr>\n",
       "  </tbody>\n",
       "</table>\n",
       "</div>"
      ],
      "text/plain": [
       "           title                                   string_list_data  \\\n",
       "0       thescore  [{'href': 'https://www.instagram.com/p/C_weZdU...   \n",
       "1        hurdles  [{'href': 'https://www.instagram.com/p/C_wRCS-...   \n",
       "2         groovy  [{'href': 'https://www.instagram.com/p/C_urr1v...   \n",
       "3   cleguardians  [{'href': 'https://www.instagram.com/p/C_vVHTl...   \n",
       "4  flash_garrett  [{'href': 'https://www.instagram.com/p/C_tr3_i...   \n",
       "\n",
       "    timestamp  \n",
       "0  1726018918  \n",
       "1  1726012782  \n",
       "2  1725997645  \n",
       "3  1725978418  \n",
       "4  1725924227  "
      ]
     },
     "execution_count": 19,
     "metadata": {},
     "output_type": "execute_result"
    }
   ],
   "source": [
    "df2.head()"
   ]
  },
  {
   "cell_type": "code",
   "execution_count": 21,
   "id": "a8687a0b-2eda-48c4-a33c-3534afc7964c",
   "metadata": {},
   "outputs": [],
   "source": [
    "df3 = pd.DataFrame(x[0] for x in df2['string_list_data'])"
   ]
  },
  {
   "cell_type": "code",
   "execution_count": 22,
   "id": "825911a6-447f-40b0-b834-03874f8a0e2f",
   "metadata": {},
   "outputs": [
    {
     "data": {
      "text/html": [
       "<div>\n",
       "<style scoped>\n",
       "    .dataframe tbody tr th:only-of-type {\n",
       "        vertical-align: middle;\n",
       "    }\n",
       "\n",
       "    .dataframe tbody tr th {\n",
       "        vertical-align: top;\n",
       "    }\n",
       "\n",
       "    .dataframe thead th {\n",
       "        text-align: right;\n",
       "    }\n",
       "</style>\n",
       "<table border=\"1\" class=\"dataframe\">\n",
       "  <thead>\n",
       "    <tr style=\"text-align: right;\">\n",
       "      <th></th>\n",
       "      <th>href</th>\n",
       "      <th>value</th>\n",
       "      <th>timestamp</th>\n",
       "      <th>title</th>\n",
       "    </tr>\n",
       "  </thead>\n",
       "  <tbody>\n",
       "    <tr>\n",
       "      <th>0</th>\n",
       "      <td>https://www.instagram.com/p/C_weZdUIA2A/</td>\n",
       "      <td>ð</td>\n",
       "      <td>1726018918</td>\n",
       "      <td>thescore</td>\n",
       "    </tr>\n",
       "    <tr>\n",
       "      <th>1</th>\n",
       "      <td>https://www.instagram.com/p/C_wRCS-yNWw/</td>\n",
       "      <td>ð</td>\n",
       "      <td>1726012782</td>\n",
       "      <td>hurdles</td>\n",
       "    </tr>\n",
       "    <tr>\n",
       "      <th>2</th>\n",
       "      <td>https://www.instagram.com/p/C_urr1vRjd_/</td>\n",
       "      <td>ð</td>\n",
       "      <td>1725997645</td>\n",
       "      <td>groovy</td>\n",
       "    </tr>\n",
       "    <tr>\n",
       "      <th>3</th>\n",
       "      <td>https://www.instagram.com/p/C_vVHTlOHrd/</td>\n",
       "      <td>ð</td>\n",
       "      <td>1725978418</td>\n",
       "      <td>cleguardians</td>\n",
       "    </tr>\n",
       "    <tr>\n",
       "      <th>4</th>\n",
       "      <td>https://www.instagram.com/p/C_tr3_iRICT/</td>\n",
       "      <td>ð</td>\n",
       "      <td>1725924227</td>\n",
       "      <td>flash_garrett</td>\n",
       "    </tr>\n",
       "  </tbody>\n",
       "</table>\n",
       "</div>"
      ],
      "text/plain": [
       "                                       href value   timestamp          title\n",
       "0  https://www.instagram.com/p/C_weZdUIA2A/  ð  1726018918       thescore\n",
       "1  https://www.instagram.com/p/C_wRCS-yNWw/  ð  1726012782        hurdles\n",
       "2  https://www.instagram.com/p/C_urr1vRjd_/  ð  1725997645         groovy\n",
       "3  https://www.instagram.com/p/C_vVHTlOHrd/  ð  1725978418   cleguardians\n",
       "4  https://www.instagram.com/p/C_tr3_iRICT/  ð  1725924227  flash_garrett"
      ]
     },
     "execution_count": 22,
     "metadata": {},
     "output_type": "execute_result"
    }
   ],
   "source": [
    "df3['title'] = df2['title']\n",
    "df3.head()"
   ]
  },
  {
   "cell_type": "code",
   "execution_count": 26,
   "id": "845ed729-5b1c-47ad-9c3f-eea3d0f7e85e",
   "metadata": {},
   "outputs": [
    {
     "data": {
      "text/html": [
       "<div>\n",
       "<style scoped>\n",
       "    .dataframe tbody tr th:only-of-type {\n",
       "        vertical-align: middle;\n",
       "    }\n",
       "\n",
       "    .dataframe tbody tr th {\n",
       "        vertical-align: top;\n",
       "    }\n",
       "\n",
       "    .dataframe thead th {\n",
       "        text-align: right;\n",
       "    }\n",
       "</style>\n",
       "<table border=\"1\" class=\"dataframe\">\n",
       "  <thead>\n",
       "    <tr style=\"text-align: right;\">\n",
       "      <th></th>\n",
       "      <th>href</th>\n",
       "      <th>value</th>\n",
       "      <th>timestamp</th>\n",
       "    </tr>\n",
       "    <tr>\n",
       "      <th>title</th>\n",
       "      <th></th>\n",
       "      <th></th>\n",
       "      <th></th>\n",
       "    </tr>\n",
       "  </thead>\n",
       "  <tbody>\n",
       "    <tr>\n",
       "      <th>umichfootball</th>\n",
       "      <td>65</td>\n",
       "      <td>65</td>\n",
       "      <td>65</td>\n",
       "    </tr>\n",
       "    <tr>\n",
       "      <th>uofm.coverage</th>\n",
       "      <td>29</td>\n",
       "      <td>29</td>\n",
       "      <td>29</td>\n",
       "    </tr>\n",
       "    <tr>\n",
       "      <th>clevelandbrowns</th>\n",
       "      <td>27</td>\n",
       "      <td>27</td>\n",
       "      <td>27</td>\n",
       "    </tr>\n",
       "    <tr>\n",
       "      <th>cleguardians</th>\n",
       "      <td>26</td>\n",
       "      <td>26</td>\n",
       "      <td>26</td>\n",
       "    </tr>\n",
       "    <tr>\n",
       "      <th>tndtakeover</th>\n",
       "      <td>21</td>\n",
       "      <td>21</td>\n",
       "      <td>21</td>\n",
       "    </tr>\n",
       "    <tr>\n",
       "      <th>jjmccarthy</th>\n",
       "      <td>19</td>\n",
       "      <td>19</td>\n",
       "      <td>19</td>\n",
       "    </tr>\n",
       "    <tr>\n",
       "      <th>nfl</th>\n",
       "      <td>18</td>\n",
       "      <td>18</td>\n",
       "      <td>18</td>\n",
       "    </tr>\n",
       "    <tr>\n",
       "      <th>bleacherreport</th>\n",
       "      <td>18</td>\n",
       "      <td>18</td>\n",
       "      <td>18</td>\n",
       "    </tr>\n",
       "    <tr>\n",
       "      <th>sportscenter</th>\n",
       "      <td>17</td>\n",
       "      <td>17</td>\n",
       "      <td>17</td>\n",
       "    </tr>\n",
       "    <tr>\n",
       "      <th>mlb</th>\n",
       "      <td>17</td>\n",
       "      <td>17</td>\n",
       "      <td>17</td>\n",
       "    </tr>\n",
       "  </tbody>\n",
       "</table>\n",
       "</div>"
      ],
      "text/plain": [
       "                 href  value  timestamp\n",
       "title                                  \n",
       "umichfootball      65     65         65\n",
       "uofm.coverage      29     29         29\n",
       "clevelandbrowns    27     27         27\n",
       "cleguardians       26     26         26\n",
       "tndtakeover        21     21         21\n",
       "jjmccarthy         19     19         19\n",
       "nfl                18     18         18\n",
       "bleacherreport     18     18         18\n",
       "sportscenter       17     17         17\n",
       "mlb                17     17         17"
      ]
     },
     "execution_count": 26,
     "metadata": {},
     "output_type": "execute_result"
    }
   ],
   "source": [
    "df3.groupby('title').count().\\\n",
    "sort_values('timestamp', ascending = False).head(10)"
   ]
  },
  {
   "cell_type": "markdown",
   "id": "4c93bbb3-2606-4303-be92-aa70dea982f4",
   "metadata": {},
   "source": [
    "A hypothesis that I would like to test is that my friend matt is the user that sends me the most messages on an instagram groupchat. The theory is that he sends me the most direct messages in terms of videos, in terms of statistics I would guess around 4-5 messages a day."
   ]
  },
  {
   "cell_type": "markdown",
   "id": "f0788f57-10d4-40bf-86a8-7d904b75a713",
   "metadata": {},
   "source": [
    "\"/Users/paulkeren/Downloads/instagram-pkk15-2024-09-13-xqnexw2t/your_instagram_activity/messages/inbox/nationalchamps2023_516574912228022\"\n",
    "This json file is messages from our group chat so it will show me the values I am testing."
   ]
  },
  {
   "cell_type": "code",
   "execution_count": 63,
   "id": "be59e48a-a5f9-40f8-a98e-d8fc2c355e94",
   "metadata": {},
   "outputs": [],
   "source": [
    "path = \"/Users/paulkeren/Downloads/instagram-pkk15-2024-09-13-xqnexw2t/your_instagram_activity/messages/inbox/nationalchamps2023_516574912228022/message_1.json\"\n",
    "with open(path) as j:\n",
    "    mess = json.load(j)"
   ]
  },
  {
   "cell_type": "code",
   "execution_count": 64,
   "id": "5c5a5535-690a-4d54-b6c0-d1af9efc2df0",
   "metadata": {},
   "outputs": [
    {
     "data": {
      "text/plain": [
       "dict_keys(['participants', 'messages', 'title', 'is_still_participant', 'thread_path', 'magic_words', 'joinable_mode'])"
      ]
     },
     "execution_count": 64,
     "metadata": {},
     "output_type": "execute_result"
    }
   ],
   "source": [
    "mess.keys()"
   ]
  },
  {
   "cell_type": "code",
   "execution_count": 65,
   "id": "811adfb4-f019-4181-8b47-c4367d4f2e10",
   "metadata": {},
   "outputs": [
    {
     "ename": "ValueError",
     "evalue": "All arrays must be of the same length",
     "output_type": "error",
     "traceback": [
      "\u001b[0;31m---------------------------------------------------------------------------\u001b[0m",
      "\u001b[0;31mValueError\u001b[0m                                Traceback (most recent call last)",
      "Cell \u001b[0;32mIn[65], line 1\u001b[0m\n\u001b[0;32m----> 1\u001b[0m wide_df \u001b[38;5;241m=\u001b[39m \u001b[43mpd\u001b[49m\u001b[38;5;241;43m.\u001b[39;49m\u001b[43mDataFrame\u001b[49m\u001b[43m(\u001b[49m\u001b[38;5;28;43mdict\u001b[39;49m\u001b[43m)\u001b[49m\n",
      "File \u001b[0;32m/opt/anaconda3/envs/data_fa24/lib/python3.12/site-packages/pandas/core/frame.py:778\u001b[0m, in \u001b[0;36mDataFrame.__init__\u001b[0;34m(self, data, index, columns, dtype, copy)\u001b[0m\n\u001b[1;32m    772\u001b[0m     mgr \u001b[38;5;241m=\u001b[39m \u001b[38;5;28mself\u001b[39m\u001b[38;5;241m.\u001b[39m_init_mgr(\n\u001b[1;32m    773\u001b[0m         data, axes\u001b[38;5;241m=\u001b[39m{\u001b[38;5;124m\"\u001b[39m\u001b[38;5;124mindex\u001b[39m\u001b[38;5;124m\"\u001b[39m: index, \u001b[38;5;124m\"\u001b[39m\u001b[38;5;124mcolumns\u001b[39m\u001b[38;5;124m\"\u001b[39m: columns}, dtype\u001b[38;5;241m=\u001b[39mdtype, copy\u001b[38;5;241m=\u001b[39mcopy\n\u001b[1;32m    774\u001b[0m     )\n\u001b[1;32m    776\u001b[0m \u001b[38;5;28;01melif\u001b[39;00m \u001b[38;5;28misinstance\u001b[39m(data, \u001b[38;5;28mdict\u001b[39m):\n\u001b[1;32m    777\u001b[0m     \u001b[38;5;66;03m# GH#38939 de facto copy defaults to False only in non-dict cases\u001b[39;00m\n\u001b[0;32m--> 778\u001b[0m     mgr \u001b[38;5;241m=\u001b[39m \u001b[43mdict_to_mgr\u001b[49m\u001b[43m(\u001b[49m\u001b[43mdata\u001b[49m\u001b[43m,\u001b[49m\u001b[43m \u001b[49m\u001b[43mindex\u001b[49m\u001b[43m,\u001b[49m\u001b[43m \u001b[49m\u001b[43mcolumns\u001b[49m\u001b[43m,\u001b[49m\u001b[43m \u001b[49m\u001b[43mdtype\u001b[49m\u001b[38;5;241;43m=\u001b[39;49m\u001b[43mdtype\u001b[49m\u001b[43m,\u001b[49m\u001b[43m \u001b[49m\u001b[43mcopy\u001b[49m\u001b[38;5;241;43m=\u001b[39;49m\u001b[43mcopy\u001b[49m\u001b[43m,\u001b[49m\u001b[43m \u001b[49m\u001b[43mtyp\u001b[49m\u001b[38;5;241;43m=\u001b[39;49m\u001b[43mmanager\u001b[49m\u001b[43m)\u001b[49m\n\u001b[1;32m    779\u001b[0m \u001b[38;5;28;01melif\u001b[39;00m \u001b[38;5;28misinstance\u001b[39m(data, ma\u001b[38;5;241m.\u001b[39mMaskedArray):\n\u001b[1;32m    780\u001b[0m     \u001b[38;5;28;01mfrom\u001b[39;00m \u001b[38;5;21;01mnumpy\u001b[39;00m\u001b[38;5;21;01m.\u001b[39;00m\u001b[38;5;21;01mma\u001b[39;00m \u001b[38;5;28;01mimport\u001b[39;00m mrecords\n",
      "File \u001b[0;32m/opt/anaconda3/envs/data_fa24/lib/python3.12/site-packages/pandas/core/internals/construction.py:503\u001b[0m, in \u001b[0;36mdict_to_mgr\u001b[0;34m(data, index, columns, dtype, typ, copy)\u001b[0m\n\u001b[1;32m    499\u001b[0m     \u001b[38;5;28;01melse\u001b[39;00m:\n\u001b[1;32m    500\u001b[0m         \u001b[38;5;66;03m# dtype check to exclude e.g. range objects, scalars\u001b[39;00m\n\u001b[1;32m    501\u001b[0m         arrays \u001b[38;5;241m=\u001b[39m [x\u001b[38;5;241m.\u001b[39mcopy() \u001b[38;5;28;01mif\u001b[39;00m \u001b[38;5;28mhasattr\u001b[39m(x, \u001b[38;5;124m\"\u001b[39m\u001b[38;5;124mdtype\u001b[39m\u001b[38;5;124m\"\u001b[39m) \u001b[38;5;28;01melse\u001b[39;00m x \u001b[38;5;28;01mfor\u001b[39;00m x \u001b[38;5;129;01min\u001b[39;00m arrays]\n\u001b[0;32m--> 503\u001b[0m \u001b[38;5;28;01mreturn\u001b[39;00m \u001b[43marrays_to_mgr\u001b[49m\u001b[43m(\u001b[49m\u001b[43marrays\u001b[49m\u001b[43m,\u001b[49m\u001b[43m \u001b[49m\u001b[43mcolumns\u001b[49m\u001b[43m,\u001b[49m\u001b[43m \u001b[49m\u001b[43mindex\u001b[49m\u001b[43m,\u001b[49m\u001b[43m \u001b[49m\u001b[43mdtype\u001b[49m\u001b[38;5;241;43m=\u001b[39;49m\u001b[43mdtype\u001b[49m\u001b[43m,\u001b[49m\u001b[43m \u001b[49m\u001b[43mtyp\u001b[49m\u001b[38;5;241;43m=\u001b[39;49m\u001b[43mtyp\u001b[49m\u001b[43m,\u001b[49m\u001b[43m \u001b[49m\u001b[43mconsolidate\u001b[49m\u001b[38;5;241;43m=\u001b[39;49m\u001b[43mcopy\u001b[49m\u001b[43m)\u001b[49m\n",
      "File \u001b[0;32m/opt/anaconda3/envs/data_fa24/lib/python3.12/site-packages/pandas/core/internals/construction.py:114\u001b[0m, in \u001b[0;36marrays_to_mgr\u001b[0;34m(arrays, columns, index, dtype, verify_integrity, typ, consolidate)\u001b[0m\n\u001b[1;32m    111\u001b[0m \u001b[38;5;28;01mif\u001b[39;00m verify_integrity:\n\u001b[1;32m    112\u001b[0m     \u001b[38;5;66;03m# figure out the index, if necessary\u001b[39;00m\n\u001b[1;32m    113\u001b[0m     \u001b[38;5;28;01mif\u001b[39;00m index \u001b[38;5;129;01mis\u001b[39;00m \u001b[38;5;28;01mNone\u001b[39;00m:\n\u001b[0;32m--> 114\u001b[0m         index \u001b[38;5;241m=\u001b[39m \u001b[43m_extract_index\u001b[49m\u001b[43m(\u001b[49m\u001b[43marrays\u001b[49m\u001b[43m)\u001b[49m\n\u001b[1;32m    115\u001b[0m     \u001b[38;5;28;01melse\u001b[39;00m:\n\u001b[1;32m    116\u001b[0m         index \u001b[38;5;241m=\u001b[39m ensure_index(index)\n",
      "File \u001b[0;32m/opt/anaconda3/envs/data_fa24/lib/python3.12/site-packages/pandas/core/internals/construction.py:677\u001b[0m, in \u001b[0;36m_extract_index\u001b[0;34m(data)\u001b[0m\n\u001b[1;32m    675\u001b[0m lengths \u001b[38;5;241m=\u001b[39m \u001b[38;5;28mlist\u001b[39m(\u001b[38;5;28mset\u001b[39m(raw_lengths))\n\u001b[1;32m    676\u001b[0m \u001b[38;5;28;01mif\u001b[39;00m \u001b[38;5;28mlen\u001b[39m(lengths) \u001b[38;5;241m>\u001b[39m \u001b[38;5;241m1\u001b[39m:\n\u001b[0;32m--> 677\u001b[0m     \u001b[38;5;28;01mraise\u001b[39;00m \u001b[38;5;167;01mValueError\u001b[39;00m(\u001b[38;5;124m\"\u001b[39m\u001b[38;5;124mAll arrays must be of the same length\u001b[39m\u001b[38;5;124m\"\u001b[39m)\n\u001b[1;32m    679\u001b[0m \u001b[38;5;28;01mif\u001b[39;00m have_dicts:\n\u001b[1;32m    680\u001b[0m     \u001b[38;5;28;01mraise\u001b[39;00m \u001b[38;5;167;01mValueError\u001b[39;00m(\n\u001b[1;32m    681\u001b[0m         \u001b[38;5;124m\"\u001b[39m\u001b[38;5;124mMixing dicts with non-Series may lead to ambiguous ordering.\u001b[39m\u001b[38;5;124m\"\u001b[39m\n\u001b[1;32m    682\u001b[0m     )\n",
      "\u001b[0;31mValueError\u001b[0m: All arrays must be of the same length"
     ]
    }
   ],
   "source": [
    "wide_df = pd.DataFrame(mess)\n"
   ]
  },
  {
   "cell_type": "markdown",
   "id": "5135b943-b241-4654-a56b-3eab76930cdc",
   "metadata": {},
   "source": [
    "I do not think my data meets tidy principles, I could not figure out how to also use data in addition to the likes data also in the code."
   ]
  },
  {
   "cell_type": "markdown",
   "id": "a06958ee-69de-4f84-a1ef-aada844cdc84",
   "metadata": {},
   "source": [
    "Some conclusions I can gather from my data is that I liked a lot of Instagram posts that relate to sports in some aspect, the most involving Michigan football or highlight videos.\n",
    "Some limitations of data could be the time frame as it is from just this past year and the algorithim being catered towards me. A proposal I have for an alternative approach is to change the time frame of the data or change the time of day of the data. Next steps in the future would be figuring how to organize different data frames. "
   ]
  },
  {
   "cell_type": "code",
   "execution_count": null,
   "id": "98a52b8c-0c64-42fc-aa15-16ebd8caeb6f",
   "metadata": {},
   "outputs": [],
   "source": []
  }
 ],
 "metadata": {
  "kernelspec": {
   "display_name": "Python 3 (ipykernel)",
   "language": "python",
   "name": "python3"
  },
  "language_info": {
   "codemirror_mode": {
    "name": "ipython",
    "version": 3
   },
   "file_extension": ".py",
   "mimetype": "text/x-python",
   "name": "python",
   "nbconvert_exporter": "python",
   "pygments_lexer": "ipython3",
   "version": "3.12.4"
  }
 },
 "nbformat": 4,
 "nbformat_minor": 5
}
