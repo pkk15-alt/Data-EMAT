{
 "cells": [
  {
   "cell_type": "code",
   "execution_count": 16,
   "id": "0ebffd75-d2cf-44a2-aa28-16bd446047ef",
   "metadata": {},
   "outputs": [],
   "source": [
    "import pandas as pd\n",
    "import json"
   ]
  },
  {
   "cell_type": "code",
   "execution_count": null,
   "id": "7ac8dfb8-deae-48c5-99c9-3183e35d4f1f",
   "metadata": {},
   "outputs": [],
   "source": [
    "data = pd.read_csv(\"browns_24.csv\")"
   ]
  },
  {
   "cell_type": "code",
   "execution_count": null,
   "id": "1c41f892-60da-4b8b-8ef4-057a4403f289",
   "metadata": {},
   "outputs": [],
   "source": [
    "data2 = pd.read_csv(\"browns_23.csv\")"
   ]
  },
  {
   "cell_type": "markdown",
   "id": "4f1d7a64-2180-4f93-a19a-59a7ff5b3e65",
   "metadata": {},
   "source": [
    "The data structure of these two sources are csvs or fancy exel sheets, I collected this data from Pro-Football-Reference.com which is a free site that provides all kinds of stats for professional football. The data is team stats for the Cleveland Browns over the past two seasons, this includes every single yard, throw, tackle, etc. "
   ]
  }
 ],
 "metadata": {
  "kernelspec": {
   "display_name": "Python 3 (ipykernel)",
   "language": "python",
   "name": "python3"
  },
  "language_info": {
   "codemirror_mode": {
    "name": "ipython",
    "version": 3
   },
   "file_extension": ".py",
   "mimetype": "text/x-python",
   "name": "python",
   "nbconvert_exporter": "python",
   "pygments_lexer": "ipython3",
   "version": "3.12.4"
  }
 },
 "nbformat": 4,
 "nbformat_minor": 5
}
